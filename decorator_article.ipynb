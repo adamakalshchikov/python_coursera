{
 "cells": [
  {
   "cell_type": "markdown",
   "metadata": {},
   "source": [
    "Выполнено по мотивам статьи про декораторы https://python-3-patterns-idioms-test.readthedocs.io/en/latest/PythonDecorators.html"
   ]
  },
  {
   "cell_type": "code",
   "execution_count": 19,
   "metadata": {},
   "outputs": [
    {
     "name": "stdout",
     "output_type": "stream",
     "text": [
      "Entering func1\n",
      "Inside func1()\n",
      "Exiting func1\n",
      "Entering func2\n",
      "Inside func2()\n",
      "Exiting func2\n",
      "new_f\n"
     ]
    }
   ],
   "source": [
    "def entry_exit(func):\n",
    "    def new_f():\n",
    "        print('Entering', func.__name__)\n",
    "        func()\n",
    "        print('Exiting', func.__name__)\n",
    "    return new_f\n",
    "\n",
    "@entry_exit\n",
    "def func1():\n",
    "    print('Inside func1()')\n",
    "    \n",
    "\n",
    "@entry_exit\n",
    "def func2():\n",
    "    print('Inside func2()')\n",
    "\n",
    "func1()\n",
    "func2()\n",
    "print(func1.__name__)"
   ]
  },
  {
   "cell_type": "markdown",
   "metadata": {},
   "source": [
    "## Decorator without arguments"
   ]
  },
  {
   "cell_type": "code",
   "execution_count": 22,
   "metadata": {
    "collapsed": true
   },
   "outputs": [
    {
     "name": "stdout",
     "output_type": "stream",
     "text": [
      "Inside __init__()\n",
      "After decoration\n",
      "Preparing to call sayHello()\n",
      "sayHello arguments: say hello argumen list\n",
      "After self.f(*args)\n",
      "After first sayHello() call\n",
      "sayHello arguments: a different set of arguments\n",
      "After self.f(*args)\n",
      "After second sayHello() call\n"
     ]
    }
   ],
   "source": [
    "class decorator_without_arguments(object):\n",
    "    \n",
    "    def __init__(self, f):\n",
    "        print('Inside __init__()')\n",
    "        self.f = f\n",
    "        \n",
    "    def __call__(self, *args):\n",
    "        self.f(*args)\n",
    "        print('After self.f(*args)')\n",
    "        \n",
    "@decorator_without_arguments\n",
    "def sayHello(a1, a2, a3, a4):\n",
    "    print('sayHello arguments:', a1, a2, a3, a4)\n",
    "    \n",
    "print('After decoration')\n",
    "\n",
    "print('Preparing to call sayHello()')\n",
    "sayHello('say','hello','argumen','list')\n",
    "print('After first sayHello() call')\n",
    "sayHello('a', 'different', 'set of', 'arguments')\n",
    "print('After second sayHello() call')"
   ]
  },
  {
   "cell_type": "markdown",
   "metadata": {},
   "source": [
    "## Decorator with arguments"
   ]
  },
  {
   "cell_type": "code",
   "execution_count": 42,
   "metadata": {
    "collapsed": true
   },
   "outputs": [
    {
     "name": "stdout",
     "output_type": "stream",
     "text": [
      "Inside __init__()\n",
      "Inside __call__()\n",
      "After decoration\n",
      "Preparing to call sayHello()\n",
      "Inside wrapped_f(): hello word 42\n",
      "sayHello arguments: say hello argument list\n",
      "After f(*args)\n",
      "After first sayHello() call\n",
      "Inside wrapped_f(): hello word 42\n",
      "sayHello arguments: a different set of arguments\n",
      "After f(*args)\n",
      "After second sayHello() call\n"
     ]
    }
   ],
   "source": [
    "class decorator_with_arguments(object):\n",
    "    \n",
    "    def __init__(self, *args):\n",
    "        print('Inside __init__()')\n",
    "        self.arg = [arg for arg in args]\n",
    "        \n",
    "    def __call__(self, f):\n",
    "        print('Inside __call__()')\n",
    "        def wrapepd_f(*args):\n",
    "            print('Inside wrapped_f():',self.arg[0], self.arg[1], self.arg[2])\n",
    "            f(*args)\n",
    "            print('After f(*args)')\n",
    "        return wrapepd_f\n",
    "        \n",
    "@decorator_with_arguments('hello','word','42')\n",
    "def sayHello(a1, a2, a3, a4):\n",
    "    print('sayHello arguments:', a1, a2, a3, a4)\n",
    "    \n",
    "print('After decoration')\n",
    "\n",
    "print('Preparing to call sayHello()')\n",
    "sayHello('say','hello','argument','list')\n",
    "print('After first sayHello() call')\n",
    "sayHello('a', 'different', 'set of', 'arguments')\n",
    "print('After second sayHello() call')"
   ]
  },
  {
   "cell_type": "markdown",
   "metadata": {},
   "source": [
    "## Decorator Function with Decorator Arguments"
   ]
  },
  {
   "cell_type": "code",
   "execution_count": 50,
   "metadata": {},
   "outputs": [
    {
     "name": "stdout",
     "output_type": "stream",
     "text": [
      "Inside wrap\n",
      "After decoration\n",
      "Preparing to call sayHello()\n",
      "Decorator arguments: ('hello', 'word', 42)\n",
      "sayHello arguments: say hello argument list\n",
      "After f(*args)\n",
      "After first sayHello() call\n",
      "Decorator arguments: ('hello', 'word', 42)\n",
      "sayHello arguments: a different set of arguments\n",
      "After f(*args)\n",
      "After second sayHello() call\n"
     ]
    }
   ],
   "source": [
    "def decorator_function_with_arguments(*args1):\n",
    "    def wrap(f):\n",
    "        print('Inside wrap')\n",
    "        def wrapped_f(*args2):\n",
    "            print('Decorator arguments:', args1)\n",
    "            f(*args2)\n",
    "            print('After f(*args)')\n",
    "        return wrapped_f\n",
    "    return wrap\n",
    "\n",
    "@decorator_function_with_arguments('hello', 'word', 42)\n",
    "def sayHello(a1, a2, a3, a4):\n",
    "    print('sayHello arguments:', a1, a2, a3, a4)\n",
    "\n",
    "\n",
    "print('After decoration')\n",
    "    \n",
    "print('Preparing to call sayHello()')\n",
    "sayHello('say','hello','argument','list')\n",
    "print('After first sayHello() call')\n",
    "sayHello('a', 'different', 'set of', 'arguments')\n",
    "print('After second sayHello() call')"
   ]
  }
 ],
 "metadata": {
  "kernelspec": {
   "display_name": "Python 3",
   "language": "python",
   "name": "python3"
  },
  "language_info": {
   "codemirror_mode": {
    "name": "ipython",
    "version": 3
   },
   "file_extension": ".py",
   "mimetype": "text/x-python",
   "name": "python",
   "nbconvert_exporter": "python",
   "pygments_lexer": "ipython3",
   "version": "3.7.0"
  }
 },
 "nbformat": 4,
 "nbformat_minor": 2
}
